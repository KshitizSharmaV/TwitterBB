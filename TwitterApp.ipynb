{
 "cells": [
  {
   "cell_type": "markdown",
   "metadata": {},
   "source": [
    "# Backend code for getting tweets"
   ]
  },
  {
   "cell_type": "code",
   "execution_count": 1,
   "metadata": {},
   "outputs": [],
   "source": [
    "import json\n",
    "import pandas as pd\n",
    "import matplotlib.pyplot as plt\n",
    "from twitter import *\n",
    "\n",
    "# Calling Twitter API\n",
    "t = Twitter(auth=OAuth('4659614468-aTNttzrV0J5eEjvpFLxkwl0PzLCmv5Of0VD6B17', 'hUXXqB5RefF7hPV6x46meXnkq81tf82T2C8EzBpKZjpoh', 'joBl9cFZMOIlG3jsMzTfLNiFG','TMjMiLnmtU9ZAl5QBYT4nULIoIVOgmQaQg5mhZH8uQnMpKWZlw'))"
   ]
  },
  {
   "cell_type": "code",
   "execution_count": 7,
   "metadata": {},
   "outputs": [],
   "source": [
    "# Get the tweets\n",
    "results=t.search.tweets(q=\"Happy\",count=100)\n",
    "resultFrame = pd.DataFrame(columns=[\"username\",\"created_at\",\"tweet\"])\n",
    "\n",
    "for i in range(len(results['statuses'])):\n",
    "    resultFrame.loc[i, \"username\"] = results['statuses'][i]['user']['screen_name']\n",
    "    resultFrame.loc[i, \"created_at\"] = results['statuses'][i]['created_at']\n",
    "    resultFrame.loc[i, \"tweet\"] = results['statuses'][i]['text']\n",
    "    "
   ]
  },
  {
   "cell_type": "markdown",
   "metadata": {},
   "source": [
    "### Tweets list that will be displayed on the web page"
   ]
  },
  {
   "cell_type": "code",
   "execution_count": 8,
   "metadata": {},
   "outputs": [
    {
     "data": {
      "text/html": [
       "<div>\n",
       "<style scoped>\n",
       "    .dataframe tbody tr th:only-of-type {\n",
       "        vertical-align: middle;\n",
       "    }\n",
       "\n",
       "    .dataframe tbody tr th {\n",
       "        vertical-align: top;\n",
       "    }\n",
       "\n",
       "    .dataframe thead th {\n",
       "        text-align: right;\n",
       "    }\n",
       "</style>\n",
       "<table border=\"1\" class=\"dataframe\">\n",
       "  <thead>\n",
       "    <tr style=\"text-align: right;\">\n",
       "      <th></th>\n",
       "      <th>username</th>\n",
       "      <th>created_at</th>\n",
       "      <th>tweet</th>\n",
       "      <th>#</th>\n",
       "    </tr>\n",
       "  </thead>\n",
       "  <tbody>\n",
       "    <tr>\n",
       "      <th>0</th>\n",
       "      <td>KirstyWynEdward</td>\n",
       "      <td>Thu Jul 18 13:35:04 +0000 2019</td>\n",
       "      <td>RT @frncissdominc: ALL THE CHARACTERS CAME OUT...</td>\n",
       "      <td>1</td>\n",
       "    </tr>\n",
       "    <tr>\n",
       "      <th>1</th>\n",
       "      <td>KayeDelfino</td>\n",
       "      <td>Thu Jul 18 13:35:04 +0000 2019</td>\n",
       "      <td>RT @postmalonelines: why do we pretend that we...</td>\n",
       "      <td>2</td>\n",
       "    </tr>\n",
       "    <tr>\n",
       "      <th>2</th>\n",
       "      <td>sucipratama0</td>\n",
       "      <td>Thu Jul 18 13:35:04 +0000 2019</td>\n",
       "      <td>stay happy and always smile our boyz\\n\\n#TAEMI...</td>\n",
       "      <td>3</td>\n",
       "    </tr>\n",
       "    <tr>\n",
       "      <th>3</th>\n",
       "      <td>Yuyamomomomo</td>\n",
       "      <td>Thu Jul 18 13:35:04 +0000 2019</td>\n",
       "      <td>RT @Qoo_Japan: ／\\n夏も #Qoo &amp;amp; #TWICE と\\nHAPP...</td>\n",
       "      <td>4</td>\n",
       "    </tr>\n",
       "    <tr>\n",
       "      <th>4</th>\n",
       "      <td>shnalingalan_</td>\n",
       "      <td>Thu Jul 18 13:35:04 +0000 2019</td>\n",
       "      <td>@labjanayn u deserve to be happy b 😙😙❤️❤️❤️</td>\n",
       "      <td>5</td>\n",
       "    </tr>\n",
       "    <tr>\n",
       "      <th>5</th>\n",
       "      <td>jsholdn03</td>\n",
       "      <td>Thu Jul 18 13:35:04 +0000 2019</td>\n",
       "      <td>seeing u happy is all i want</td>\n",
       "      <td>6</td>\n",
       "    </tr>\n",
       "    <tr>\n",
       "      <th>6</th>\n",
       "      <td>mamsry_</td>\n",
       "      <td>Thu Jul 18 13:35:04 +0000 2019</td>\n",
       "      <td>sana everyday anniversary para agad nagkakabat...</td>\n",
       "      <td>7</td>\n",
       "    </tr>\n",
       "    <tr>\n",
       "      <th>7</th>\n",
       "      <td>Skroeker24</td>\n",
       "      <td>Thu Jul 18 13:35:04 +0000 2019</td>\n",
       "      <td>RT @TwinsAlmanac: Let's all wish a happy 44th ...</td>\n",
       "      <td>8</td>\n",
       "    </tr>\n",
       "    <tr>\n",
       "      <th>8</th>\n",
       "      <td>thisisdobi_k</td>\n",
       "      <td>Thu Jul 18 13:35:04 +0000 2019</td>\n",
       "      <td>RT @SoSplendidPM: (เพื่อน)ใครมี personality (บ...</td>\n",
       "      <td>9</td>\n",
       "    </tr>\n",
       "    <tr>\n",
       "      <th>9</th>\n",
       "      <td>JiminsJxms</td>\n",
       "      <td>Thu Jul 18 13:35:04 +0000 2019</td>\n",
       "      <td>RT @97euphoria: THIS BABY IS SO HAPPY TO BE HO...</td>\n",
       "      <td>10</td>\n",
       "    </tr>\n",
       "  </tbody>\n",
       "</table>\n",
       "</div>"
      ],
      "text/plain": [
       "          username                      created_at  \\\n",
       "0  KirstyWynEdward  Thu Jul 18 13:35:04 +0000 2019   \n",
       "1      KayeDelfino  Thu Jul 18 13:35:04 +0000 2019   \n",
       "2     sucipratama0  Thu Jul 18 13:35:04 +0000 2019   \n",
       "3     Yuyamomomomo  Thu Jul 18 13:35:04 +0000 2019   \n",
       "4    shnalingalan_  Thu Jul 18 13:35:04 +0000 2019   \n",
       "5        jsholdn03  Thu Jul 18 13:35:04 +0000 2019   \n",
       "6          mamsry_  Thu Jul 18 13:35:04 +0000 2019   \n",
       "7       Skroeker24  Thu Jul 18 13:35:04 +0000 2019   \n",
       "8     thisisdobi_k  Thu Jul 18 13:35:04 +0000 2019   \n",
       "9       JiminsJxms  Thu Jul 18 13:35:04 +0000 2019   \n",
       "\n",
       "                                               tweet   #  \n",
       "0  RT @frncissdominc: ALL THE CHARACTERS CAME OUT...   1  \n",
       "1  RT @postmalonelines: why do we pretend that we...   2  \n",
       "2  stay happy and always smile our boyz\\n\\n#TAEMI...   3  \n",
       "3  RT @Qoo_Japan: ／\\n夏も #Qoo &amp; #TWICE と\\nHAPP...   4  \n",
       "4        @labjanayn u deserve to be happy b 😙😙❤️❤️❤️   5  \n",
       "5                       seeing u happy is all i want   6  \n",
       "6  sana everyday anniversary para agad nagkakabat...   7  \n",
       "7  RT @TwinsAlmanac: Let's all wish a happy 44th ...   8  \n",
       "8  RT @SoSplendidPM: (เพื่อน)ใครมี personality (บ...   9  \n",
       "9  RT @97euphoria: THIS BABY IS SO HAPPY TO BE HO...  10  "
      ]
     },
     "execution_count": 8,
     "metadata": {},
     "output_type": "execute_result"
    }
   ],
   "source": [
    "resultFrame[\"#\"]=resultFrame.index+1\n",
    "resultFrame.head(10)"
   ]
  },
  {
   "cell_type": "code",
   "execution_count": 15,
   "metadata": {},
   "outputs": [
    {
     "data": {
      "text/plain": [
       "{1: 'RT @frncissdominc: ALL THE CHARACTERS CAME OUT FOR DISNEYLAND’S 64TH BIRTHDAY TODAY!!!!!!!! SO MANY COOL CHARACTERS AND WHAT A SPECIAL MOME…',\n",
       " 2: \"RT @postmalonelines: why do we pretend that we're happy?\",\n",
       " 3: 'stay happy and always smile our boyz\\n\\n#TAEMINDAY_19930718 🎉\\n#태민아_되게많이_사랑해 💜\\n#빛나는태민아_생일축하해 🌷\\n#태민 #TAEMIN #샤이니 ✨… https://t.co/QKH7WiermN',\n",
       " 4: 'RT @Qoo_Japan: ／\\n夏も #Qoo &amp; #TWICE と\\nHAPPYな時間♪\\n＼\\n\\nチェヨンボトルはもうゲットした？\\nQooを飲んでTWICEと一緒に\\n#HAPPYHAPPY になろう✨\\n\\n今ならフォロー＆この投稿をリツイートで\\n製品1ケースが当たる🎁\\n\\n締切：7…',\n",
       " 5: '@labjanayn u deserve to be happy b 😙😙❤️❤️❤️',\n",
       " 6: 'seeing u happy is all i want',\n",
       " 7: 'sana everyday anniversary para agad nagkakabati 😝 JK CHAI HAPPY 1st YEAR COLLEGE char HAPPY 1st ANNIV!! God knows h… https://t.co/fyNxSw28Lt',\n",
       " 8: \"RT @TwinsAlmanac: Let's all wish a happy 44th birthday to #MNTwins all-time great @ToriiHunter48.\\n\\nRetweet for a chance to win his 2015 @To…\",\n",
       " 9: 'RT @SoSplendidPM: (เพื่อน)ใครมี personality (บุคลิกลักษณะ) แบบนี้บ้าง ?\\n\\na nerd\\n=เนิร์ดรู้เยอะ! (หมกมุ่นกับสิ่งที่ตัวเองชอบ)\\n\\na chatterbox…',\n",
       " 10: 'RT @97euphoria: THIS BABY IS SO HAPPY TO BE HOME HE FORMED A HEART LIKE THREE TIMES 😭 https://t.co/kRZUDs2BJl',\n",
       " 11: 'RT @LifePlusWithYou: 190718 HAPPY BAEKHO DAY 프리뷰 #뉴이스트 #백호 #강동호 #백호의_여름밤 \\n\\n강동호 너무 귀여워서 지구를 갈아버릴테야.. https://t.co/QIldXdz3iB',\n",
       " 12: 'RT @SoSplendidPM: (เพื่อน)ใครมี personality (บุคลิกลักษณะ) แบบนี้บ้าง ?\\n\\na nerd\\n=เนิร์ดรู้เยอะ! (หมกมุ่นกับสิ่งที่ตัวเองชอบ)\\n\\na chatterbox…',\n",
       " 13: '@_Laquizee happy birthday my guy 🤘🏼',\n",
       " 14: \"RT @Timestodongho: It not a event birthday, it's a mini concert 😭🙊\\n\\n#NUEST #HAPPY_BAEKHO_DAY \\n https://t.co/YyAQMjzGJm\",\n",
       " 15: \"Hello Twitter, I'm here! And happy to see #Bolivia taking a stand against femicide! \\n\\nNational Action Plan ✔️\\nPresi… https://t.co/5d5o3jdtFq\",\n",
       " 16: 'よーくわかってないので迂闊には言えないですが、アカーーーーーン\\u3000複雑。。。。。',\n",
       " 17: 'RT @summeranna_: Happy birthday @savannahkott !!! Love you and can’t wait to see you in a month!',\n",
       " 18: 'Happy ➡️ Eat\\nSad ➡️ Eat\\n\\nAno na Joan?\\n\\nTapos gusto mo pumayat? 🤦\\u200d♀️',\n",
       " 19: '@roserendipity_ hahahahaha happy nga ko ate.😂💛',\n",
       " 20: 'Happy man ko',\n",
       " 21: 'Happy Thursday friends! Make the best out of today! 💫💫 https://t.co/wpS2hBBLEO',\n",
       " 22: 'RT @queenarchive: on this day, 34 years ago, queen gifted us with this legendary performance. happy live aid day! https://t.co/58WYQbEixo',\n",
       " 23: '@ICC @MRFWorldwide Happy birthday',\n",
       " 24: 'RT @tvonetv: Master P Talks Ownership &amp; Tyler Perry: \"I Thought My Homeboy Would Be Happy For Me\"\\n\\nWatch The #DLHughleyShow weeknights at a…',\n",
       " 25: 'Me whenever @_chrek posts pictures of her happy in love https://t.co/ojJTIEMa4y',\n",
       " 26: '@PsDah やったあ！！待ってる！',\n",
       " 27: 'RT @artsyseuIgi: dear @ArianaGrande please watch this. yeri from red velvet always talk about you in almost every interview and shows she a…',\n",
       " 28: 'not sad not happy too .',\n",
       " 29: 'RT @nbcthegoodplace: Queen of realizing things. \\U0001f92f\\n\\nHappy birthday, @IMKristenBell! https://t.co/wX3HkJ6rEX',\n",
       " 30: 'I hope you will always be healthy and happy. @BTS_twt https://t.co/PClfHz9x0R',\n",
       " 31: 'Good morning and happy MATCHDAY! Kickoff against @CardiffCityFC is 7:45 tonight! March to the match at 6:30! In thr… https://t.co/fZBZeLXQNL',\n",
       " 32: 'RT @rjcmxrell: seeing u happy is all i want',\n",
       " 33: 'Happy Thursday everyone. Let’s go back to sleep and never wake up, okay? \\n\\n https://t.co/TlbNzyp84a',\n",
       " 34: 'RT @realDonaldTrump: We will never be a Socialist or Communist Country. IF YOU ARE NOT HAPPY HERE, YOU CAN LEAVE! It is your choice, and yo…',\n",
       " 35: 'RT @Qoo_Japan: ／\\n夏も #Qoo &amp; #TWICE と\\nHAPPYな時間♪\\n＼\\n\\nチェヨンボトルはもうゲットした？\\nQooを飲んでTWICEと一緒に\\n#HAPPYHAPPY になろう✨\\n\\n今ならフォロー＆この投稿をリツイートで\\n製品1ケースが当たる🎁\\n\\n締切：7…',\n",
       " 36: 'RT @demoansx: seeing you happy is all i want.',\n",
       " 37: 'RT @Zankai_88: \"Year 3017\" \\n\\nThis was part of #KoKollab hosted on Instagram! Happy birthday Ko Ko Bop \\U0001f970 \\n\\n@weareoneEXO\\n\\n#kokobop #kaifanart…',\n",
       " 38: 'RT @Food4lovers: A lunch of leftovers - Last nights Ratatouille meets Cous Cous, Spinach Leaves, Dollops of Hummus &amp; Greek Yoghurt, and a d…',\n",
       " 39: \"so happy for 'em💗💗💗💗💗💗💗💗💗\",\n",
       " 40: 'RT @SofieHagen: I really wanted to write about how you should punch nazis in my book ‘Happy Fat’, but my editor asked me not to. Anyways, c…',\n",
       " 41: 'RT @if_224: 必死に生きて、必死に描いてる\\nそんな世界が続きますように\\nこれから生まれる物語を潰さないで',\n",
       " 42: \"RT @adena_andrews: We're flawed but we're still perfect for each other.\\n\\nHappy Anniversary #Chadena https://t.co/fUK1CdXiB3\",\n",
       " 43: 'UP was and still is my dream school even though I didn’t get in. But I’m happy that UP is still part in achieving m… https://t.co/V98GgCISUG',\n",
       " 44: '@Jordan_Lee Aww jordan you look so happy',\n",
       " 45: 'RT @chanknots: chan singing a whole new world 😭 he might not have the best vocal in kpop industry but he has the voice of an angel, and the…',\n",
       " 46: '@CTRavi_BJP Many More Happy Returns Of The Day Sir 🎂💐🎉',\n",
       " 47: '@Peter_Kays Yama happy birthday day, hope you have stopped celebrating your birthday the way you used to back in campus',\n",
       " 48: 'i was so happy when i found out but my parents doubt me so im doubting myself as well h taking a gap year is the be… https://t.co/v0RZ0Y2PQH',\n",
       " 49: 'Happy birthday @zeegj_ !!!',\n",
       " 50: '@WWE @BellaTwins @artemchigvintse @RitaOra Ugh I am so in love with this! @BellaTwins Nikki I am so happy that you… https://t.co/slI6XqA2dv',\n",
       " 51: 'RT @LifePlusWithYou: 190718 HAPPY BAEKHO DAY 프리뷰 #뉴이스트 #백호 #강동호 #백호의_여름밤 \\n\\n동호 통화 하는 것도 보고,, 좋은 삶ㅇ ㅣ어ㄸ ㅏ,, https://t.co/wfUWgSRK0m',\n",
       " 52: 'RT @musica1akitty: Happy Thursday folks 🎵🌻💛\\n\\n#NowPlaying #KittsMix #GoodVibes \\n\\nDuran Duran - A View To A Kill \\n\\n@musica1ity \\n\\nhttps://t.co…',\n",
       " 53: 'RT @21stCON: We are happy to share the 2019 21st Century Englishes Conference Call for Papers! This year\\'s theme is \"Reimagining Creativity…',\n",
       " 54: 'Happy happy belated birthday nong @zeegabales !! Ambot ngaa way oa ta pic duwa but I hope you enjoyed your day. Mor… https://t.co/CXqgQU9Q4r',\n",
       " 55: 'RT @Puriijagan: Happy tears😅 chala rojulaki ni cinema ki super hit talk 😍  elagaina #Janaganamana set chey anna  #iSmartShankar i https://t…',\n",
       " 56: 'Happy 40th Birthday Matt!!\\n\\nWe have had some big birthdays so far this year at Midtherm Laser and today Matt turns… https://t.co/04p5NrB2Fh',\n",
       " 57: '\"I am extremely happy to support Ilona Oltuski\\'s wonderful project @getclassical In School.,,Classical music is equ… https://t.co/1znSrX4iVQ',\n",
       " 58: '#YouthIconDhanushBdayin10Days\\n\\nAdvance happy birthday thalaivaaaa \\U0001f929😘 https://t.co/EIPJRNv7s4',\n",
       " 59: \"RT @sstueyy: @RealCandaceO Its Trump Hyper Bullshit.\\n\\nThere's no defense for the president telling natural born US citizens to go back to w…\",\n",
       " 60: 'Not everything is Happy Ending',\n",
       " 61: 'From everyone at the CNSOPB, Happy Pride Week #Halifax ! @HalifaxPride\\n#hfxpride',\n",
       " 62: 'RT @themunalisa_: Will Smith said, “her happiness is not my responsibility. She should be happy and I should be happy individually. Then we…',\n",
       " 63: '@iSurhailo They are the real Queens of the Earth, they can naturally turn a house into a home, they actually unders… https://t.co/3VzO4Dtmjf',\n",
       " 64: '@CourtneyABC13 Happy Birthday Courtney!🎂🍰🎉 Have a wonderful &amp; blessed day!!',\n",
       " 65: '@needyeliza Im so happy for u!!',\n",
       " 66: 'RT @ICC: 3️⃣0️⃣ international fifty-plus scores\\n🔝 @MRFWorldwide No.1 ranked ODI batter &amp; No.3 ranked T20I batter\\n🏆 2018 Rachael Heyhoe Flin…',\n",
       " 67: 'happy one year to these photos they are my babies &lt;333 https://t.co/wpSqWs6UQL',\n",
       " 68: 'Wish you many more happy returns of the day dear  @CTRavi_BJP sir.\\n\\nGod bless you with healthy and long life.',\n",
       " 69: '@Seokjin_happy_ 들갔는데 우편함에 70개 있었어',\n",
       " 70: 'Happy Birthday @HailieDeegan! https://t.co/iw4lBLGSTc',\n",
       " 71: 'RT @tahitismith: Boys just wanna have fun....in case you hadn’t noticed, we had a blast making this picture. Happy 32nd Birthday Robocop! h…',\n",
       " 72: 'RT @meabad27: So proud &amp; happy to see how Solid Lou FCs are working hard for Lou’s journey at PBB, not to forget the silent supporters out…',\n",
       " 73: 'RT @Qoo_Japan: ／\\n夏も #Qoo &amp; #TWICE と\\nHAPPYな時間♪\\n＼\\n\\nナヨンボトルはもうゲットした？\\nQooを飲んでTWICEと一緒に\\n#HAPPYHAPPY になろう✨\\n\\n今ならフォロー＆この投稿をリツイートで\\n製品1ケースが当たる🎁\\n\\n締切：7/…',\n",
       " 74: 'RT @wmag: \"I just think I\\'ve found how to be the best version of myself, and that took a lot of years.\" Happy birthday, @PriyankaChopra! ht…',\n",
       " 75: 'RT @BathCDH: NEW IN: Jamie having fun with his new KONG stick in the paddock!  This happy boy needs a steady home to help him settle down.…',\n",
       " 76: '@Matthew_happy 抽選結果をお伝えします。「ウチカフェスイーツ20円引クーポン」を差し上げます！ご利用は7/29まで♪レジでクーポンをご提示ください。使い方は⇒https://t.co/MwIdE0HisL… https://t.co/yChiYLOz8S',\n",
       " 77: 'RT @_CateyLyn: Cassie &amp; Diddy were together for 10 years, and 8 months after they broke up she found a new man, got pregnant and got happy.…',\n",
       " 78: 'RT @Cherry01_: and your official media partner 🚨 @MTVBaseAfrica 🔥\\n\\nwe’re so happy to announce them because you KNOW for sure the #EraOfTheY…',\n",
       " 79: 'Happy Birthday! https://t.co/Cm4Ehcx92Q',\n",
       " 80: \"We're giving 4 out of 5 stars to MY LETTERS TO HAPPY, starring Glaiza De Castro and TJ Trinidad.\\nNow showing in PH… https://t.co/5wGFI90NzH\",\n",
       " 81: '@soulver happy to hear) and one more thing - is it possible to split soulver sheetbook into several files? got a na… https://t.co/jNBTxDFsou'}"
      ]
     },
     "execution_count": 15,
     "metadata": {},
     "output_type": "execute_result"
    }
   ],
   "source": [
    "tweets=resultFrame[['tweet','#']]\n",
    "tweets.set_index('#')['tweet'].to_dict()"
   ]
  },
  {
   "cell_type": "markdown",
   "metadata": {},
   "source": [
    "## Analyzing the tweets - Counting the words in all tweets and displaying"
   ]
  },
  {
   "cell_type": "code",
   "execution_count": 18,
   "metadata": {},
   "outputs": [],
   "source": [
    "def word_count(str,count):\n",
    "    words = str.split()\n",
    "\n",
    "    for word in words:\n",
    "        if word in counts:\n",
    "            counts[word] += 1\n",
    "        else:\n",
    "            counts[word] = 1\n",
    "    return counts\n",
    "\n",
    "counts = dict()\n",
    "for i in resultFrame['tweet']:\n",
    "    counts=word_count(i,counts)\n",
    "\n",
    "sorted_x = sorted(counts.items(), key=lambda counts: counts[1])\n",
    "sorted_x.reverse()"
   ]
  },
  {
   "cell_type": "markdown",
   "metadata": {},
   "source": [
    "### Tweets counts that will be displayed for top 10 words that are repeating in the tweets"
   ]
  },
  {
   "cell_type": "code",
   "execution_count": 25,
   "metadata": {},
   "outputs": [
    {
     "data": {
      "text/plain": [
       "{'RT': 38,\n",
       " 'happy': 32,\n",
       " 'Happy': 23,\n",
       " 'a': 22,\n",
       " 'to': 22,\n",
       " 'and': 19,\n",
       " 'the': 16,\n",
       " 'you': 14,\n",
       " 'is': 13,\n",
       " 'of': 12}"
      ]
     },
     "execution_count": 25,
     "metadata": {},
     "output_type": "execute_result"
    }
   ],
   "source": [
    "\n",
    "dict(sorted_x[0:10])"
   ]
  },
  {
   "cell_type": "code",
   "execution_count": 23,
   "metadata": {},
   "outputs": [
    {
     "ename": "NameError",
     "evalue": "name 'take' is not defined",
     "output_type": "error",
     "traceback": [
      "\u001b[0;31m---------------------------------------------------------------------------\u001b[0m",
      "\u001b[0;31mNameError\u001b[0m                                 Traceback (most recent call last)",
      "\u001b[0;32m<ipython-input-23-f669f54b0df0>\u001b[0m in \u001b[0;36m<module>\u001b[0;34m\u001b[0m\n\u001b[1;32m      1\u001b[0m \u001b[0msorted_x\u001b[0m\u001b[0;34m\u001b[0m\u001b[0;34m\u001b[0m\u001b[0m\n\u001b[0;32m----> 2\u001b[0;31m \u001b[0mtake\u001b[0m\u001b[0;34m(\u001b[0m\u001b[0;36m10\u001b[0m\u001b[0;34m,\u001b[0m\u001b[0msorted_x\u001b[0m\u001b[0;34m.\u001b[0m\u001b[0miteritems\u001b[0m\u001b[0;34m(\u001b[0m\u001b[0;34m)\u001b[0m\u001b[0;34m)\u001b[0m\u001b[0;34m\u001b[0m\u001b[0;34m\u001b[0m\u001b[0m\n\u001b[0m",
      "\u001b[0;31mNameError\u001b[0m: name 'take' is not defined"
     ]
    }
   ],
   "source": [
    "sorted_x\n",
    "take(10,sorted_x.iteritems())"
   ]
  },
  {
   "cell_type": "code",
   "execution_count": null,
   "metadata": {},
   "outputs": [],
   "source": []
  }
 ],
 "metadata": {
  "kernelspec": {
   "display_name": "Python 3",
   "language": "python",
   "name": "python3"
  },
  "language_info": {
   "codemirror_mode": {
    "name": "ipython",
    "version": 3
   },
   "file_extension": ".py",
   "mimetype": "text/x-python",
   "name": "python",
   "nbconvert_exporter": "python",
   "pygments_lexer": "ipython3",
   "version": "3.6.8"
  }
 },
 "nbformat": 4,
 "nbformat_minor": 2
}
